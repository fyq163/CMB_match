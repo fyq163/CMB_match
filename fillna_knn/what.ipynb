{
 "cells": [
  {
   "cell_type": "code",
   "execution_count": 6,
   "metadata": {
    "pycharm": {
     "name": "#%%\n"
    }
   },
   "outputs": [],
   "source": [
    "import pandas as pd\n",
    "import numpy as np\n",
    "lll = {'LABEL', 'ICO_CUR_MON_ACM_TRX_TM', 'NB_RCT_3_MON_LGN_TMS_AGV', 'ICO_CUR_MON_ACM_TRX_AMT', 'COUNTER_CUR_YEAR_CNT_AMT', 'PUB_TO_PRV_TRX_AMT_CUR_YEAR', 'MON_12_EXT_SAM_TRSF_IN_AMT', 'MON_12_EXT_SAM_TRSF_OUT_AMT', 'MON_12_EXT_SAM_NM_TRSF_OUT_CNT', 'MON_12_EXT_SAM_AMT', 'CUR_MON_EXT_SAM_CUST_TRSF_IN_AMT', 'CUR_MON_EXT_SAM_CUST_TRSF_OUT_AMT', 'CUR_YEAR_MON_AGV_TRX_CNT', 'MON_12_AGV_TRX_CNT', 'MON_12_ACM_ENTR_ACT_CNT', 'MON_12_AGV_ENTR_ACT_CNT', 'MON_12_ACM_LVE_ACT_CNT', 'MON_12_AGV_LVE_ACT_CNT', 'CUR_YEAR_COUNTER_ENCASH_CNT', 'LAST_12_MON_COR_DPS_TM_PNT_BAL_PEAK_VAL', 'LAST_12_MON_COR_DPS_DAY_AVG_BAL', 'CUR_MON_COR_DPS_MON_DAY_AVG_BAL', 'CUR_YEAR_COR_DMND_DPS_DAY_AVG_BAL', 'CUR_YEAR_COR_DPS_YEAR_DAY_AVG_INCR', 'LAST_12_MON_DIF_NM_MON_AVG_TRX_AMT_NAV', 'LAST_12_MON_MON_AVG_TRX_AMT_NAV', 'COR_KEY_PROD_HLD_NBR', 'CUR_YEAR_MID_BUS_INC', 'AI_STAR_SCO', 'EMP_NBR', 'REG_CPT', 'SHH_BCK', 'HLD_DMS_CCY_ACT_NBR', 'REG_DT', 'OPN_TM', 'HLD_FGN_CCY_ACT_NBR'}\n",
    "idx = pd.Index(lll)\n",
    "def wash_raw(df,lll=lll):\n",
    "    idx = pd.Index(lll)\n",
    "    df.replace('?',np.NaN,inplace=True)\n",
    "    df['MON_12_CUST_CNT_PTY_ID'].fillna(0,inplace=True)\n",
    "    df[df['MON_12_CUST_CNT_PTY_ID']=='Y']=1\n",
    "    mask = df[:].dtypes != object\n",
    "    df = df.loc[:,mask]\n",
    "    \n",
    "    return df.loc[:,df.columns.isin(idx)]"
   ]
  },
  {
   "cell_type": "code",
   "execution_count": 7,
   "metadata": {
    "pycharm": {
     "name": "#%%\n"
    }
   },
   "outputs": [],
   "source": [
    "testData = pd.read_csv('/Users/fyq/PycharmProjects/CMB/数据赛道/test_A榜.csv',encoding='utf-8')\n",
    "trainData = pd.read_csv('/Users/fyq/PycharmProjects/CMB/数据赛道/fillna_knn/fillnaAVG.csv',index_col=0)\n",
    "trainLabel = trainData.loc[:,'LABEL']\n",
    "testData = wash_raw(testData)\n",
    "trainData = trainData.loc[:,trainData.columns.isin(testData.columns)]"
   ]
  }
 ],
 "metadata": {
  "interpreter": {
   "hash": "5c069628d12a0ff32f845df9e2d2dc68a0224f451f96b9471cad177a06dd9aa6"
  },
  "kernelspec": {
   "display_name": "Python 3.8.13 ('base')",
   "language": "python",
   "name": "python3"
  },
  "language_info": {
   "codemirror_mode": {
    "name": "ipython",
    "version": 3
   },
   "file_extension": ".py",
   "mimetype": "text/x-python",
   "name": "python",
   "nbconvert_exporter": "python",
   "pygments_lexer": "ipython3",
   "version": "3.8.13"
  },
  "orig_nbformat": 4
 },
 "nbformat": 4,
 "nbformat_minor": 2
}
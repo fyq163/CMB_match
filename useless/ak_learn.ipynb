{
 "cells": [
  {
   "cell_type": "code",
   "execution_count": 1,
   "metadata": {
    "pycharm": {
     "name": "#%%\n"
    }
   },
   "outputs": [],
   "source": [
    "import pandas as pd\n",
    "import numpy as np\n",
    "import matplotlib.pyplot as plt\n",
    "from ydata_profiling import ProfileReport\n",
    "from useful_functions import *\n",
    "df_train = pd.read_csv(\"train.csv\")\n",
    "# df_testA = pd.read_csv('test_A榜.csv')\n",
    "# df_testB = pd.read_csv('test_B榜.csv')\n",
    "string_col = ['MON_12_CUST_CNT_PTY_ID',\n",
    "'AI_STAR_SCO',\n",
    "'WTHR_OPN_ONL_ICO',\n",
    "'SHH_BCK',\n",
    "'LGP_HLD_CARD_LVL',\n",
    "'NB_CTC_HLD_IDV_AIO_CARD_SITU']\n"
   ]
  },
  {
   "cell_type": "markdown",
   "metadata": {
    "pycharm": {
     "name": "#%% md\n"
    }
   },
   "source": [
    "缺失太多的不要"
   ]
  },
  {
   "cell_type": "code",
   "execution_count": 2,
   "metadata": {
    "collapsed": false,
    "pycharm": {
     "name": "#%%\n"
    }
   },
   "outputs": [],
   "source": [
    "def drop_too_few_variable(dataframe:pd.DataFrame, threshold=0.75,str_col=string_col, keep_stringcol=True):\n",
    "    mask_drop = (dataframe.count()/40000)>threshold\n",
    "    if keep_stringcol:\n",
    "        _df_numerical = dataframe.loc[:,mask_drop]\n",
    "    else:\n",
    "        dataframe = dataframe.loc[:,mask_drop]\n",
    "    return _df_numerical"
   ]
  },
  {
   "cell_type": "markdown",
   "metadata": {
    "collapsed": false,
    "pycharm": {
     "name": "#%% md\n"
    }
   },
   "source": [
    "ydataprofileing"
   ]
  },
  {
   "cell_type": "markdown",
   "metadata": {
    "collapsed": false,
    "pycharm": {
     "name": "#%% md\n"
    }
   },
   "source": [
    "-2处理,SHHBCK也要-2，做one hot,分出label"
   ]
  },
  {
   "cell_type": "code",
   "execution_count": 3,
   "metadata": {
    "collapsed": false,
    "pycharm": {
     "name": "#%%\n"
    }
   },
   "outputs": [],
   "source": [
    "\n",
    "def step1_data_processing(df: pd.DataFrame, _string_col):\n",
    "    \"\"\"\n",
    "    minus 2 for numerical columns and 'SHH_BCK' column, then separate label dataframe\n",
    "    :param _string_col: none numerical columns\n",
    "    :returns dataframe after step 1 processing , a pure label\n",
    "    \"\"\"\n",
    "    # slip 2 numerical and string columns\n",
    "    _string_col = dynamic_string_col(df, _string_col)\n",
    "    # reconfirm the columns\n",
    "    _df_numerical = df.drop(_string_col, axis=1).iloc[:, 2:].astype(float)\n",
    "    _df_numerical=_df_numerical-2\n",
    "    df_str = df.loc[:, _string_col]\n",
    "    df_str.loc[:,'SHH_BCK']=df.loc[:,'SHH_BCK']-2\n",
    "    return pd.concat(objs=[df.iloc[:, :2],_df_numerical,df_str],axis=1),_string_col\n",
    "\n",
    "\n",
    "df_train,string_col = step1_data_processing(df_train,string_col)\n",
    "# if 'LABEL' in df.columns:\n",
    "#         df_label: pd.DataFrame = df_train.LABEL\n",
    "#     else:\n",
    "#         raise ValueError('There is no label!')"
   ]
  },
  {
   "cell_type": "markdown",
   "metadata": {
    "collapsed": false,
    "pycharm": {
     "name": "#%% md\n"
    }
   },
   "source": [
    "1.平均值填充值"
   ]
  },
  {
   "cell_type": "code",
   "execution_count": 4,
   "metadata": {
    "collapsed": false,
    "pycharm": {
     "name": "#%%\n"
    }
   },
   "outputs": [],
   "source": [
    "# df_train.isnull().sum().sort_values(ascending=False)\n",
    "_string_col = list(set(df_train.columns) & set(string_col))\n",
    "    # reconfirm the columns\n",
    "_df_numerical = df_train.drop(_string_col, axis=1).iloc[:, 2:].astype(float)\n",
    "df_str = df_train.loc[:, _string_col]"
   ]
  },
  {
   "cell_type": "code",
   "execution_count": 5,
   "metadata": {
    "collapsed": false,
    "pycharm": {
     "name": "#%%\n"
    }
   },
   "outputs": [],
   "source": [
    "# for col in _df_numerical.columns:\n",
    "#     for row in _df_numerical.index:\n",
    "#         if pd.isna(_df_numerical.loc[row,col]):\n",
    "#             mean=_df_numerical[col].mean()\n",
    "#             std=_df_numerical[col].std()\n",
    "#             _df_numerical.loc[row,col]=np.random.normal(mean,std)\n",
    "\n",
    "# for column in _df_numerical.columns:\n",
    "#     # 检查每个值是否为NaN\n",
    "#     for index, value in _df_numerical[column].items():\n",
    "#         if pd.isna(value):\n",
    "#             # 填充这一列的正态分布随机数\n",
    "#             mean = _df_numerical[column].mean()\n",
    "#             std = _df_numerical[column].std()\n",
    "#             _df_numerical.at[index, column] = np.random.normal(mean,std)\n"
   ]
  },
  {
   "cell_type": "markdown",
   "metadata": {
    "collapsed": false,
    "pycharm": {
     "name": "#%% md\n"
    }
   },
   "source": [
    "one-hot"
   ]
  },
  {
   "cell_type": "code",
   "execution_count": 6,
   "metadata": {
    "collapsed": false,
    "pycharm": {
     "name": "#%%\n"
    }
   },
   "outputs": [],
   "source": [
    "for col in df_str:\n",
    "    df_str.loc[:,col]"
   ]
  },
  {
   "attachments": {},
   "cell_type": "markdown",
   "metadata": {
    "pycharm": {
     "name": "#%% md\n"
    }
   },
   "source": [
    "\n",
    "\n",
    "有序型分类变量：使用LabelEncoder()编码；\n",
    "\n",
    "无序型分类变量：使用独热编码。"
   ]
  },
  {
   "cell_type": "markdown",
   "metadata": {
    "collapsed": false,
    "pycharm": {
     "name": "#%% md\n"
    }
   },
   "source": [
    "2.填充值"
   ]
  },
  {
   "cell_type": "code",
   "execution_count": 7,
   "metadata": {
    "collapsed": false,
    "pycharm": {
     "name": "#%%\n"
    }
   },
   "outputs": [],
   "source": [
    "# 定义阈值\n",
    "threshold = 0.8\n",
    "corr_matrix = _df_numerical.corr()\n",
    "corr_cols=[]\n",
    "for i in range(len(corr_matrix.columns)):\n",
    "    for j in range(i+1, len(corr_matrix.columns)):\n",
    "        if abs(corr_matrix.iloc[i,j]>threshold):\n",
    "            if corr_matrix.columns[j] not in corr_cols:\n",
    "                corr_cols.append(corr_matrix.columns[j])"
   ]
  },
  {
   "cell_type": "code",
   "execution_count": 8,
   "metadata": {
    "collapsed": false,
    "pycharm": {
     "name": "#%%\n"
    }
   },
   "outputs": [
    {
     "ename": "SyntaxError",
     "evalue": "expression expected after dictionary key and ':' (1345193282.py, line 2)",
     "output_type": "error",
     "traceback": [
      "\u001B[0;36m  Cell \u001B[0;32mIn[8], line 2\u001B[0;36m\u001B[0m\n\u001B[0;31m    no_observations= {'col':corr_cols,'abbreviation':[s[0:3] for s in corr_cols],'n':}\u001B[0m\n\u001B[0m                                                                                    ^\u001B[0m\n\u001B[0;31mSyntaxError\u001B[0m\u001B[0;31m:\u001B[0m expression expected after dictionary key and ':'\n"
     ]
    }
   ],
   "source": [
    "n = _df_numerical\n",
    "no_observations= {'col':corr_cols,'abbreviation':[s[0:3] for s in corr_cols],'n':}\n",
    "then = pd.DataFrame().groupby('abbreviation')\n"
   ]
  },
  {
   "cell_type": "markdown",
   "metadata": {
    "collapsed": false,
    "pycharm": {
     "name": "#%% md\n"
    }
   },
   "source": [
    "\n",
    "\n",
    "有序型分类变量：使用LabelEncoder()编码；\n",
    "\n",
    "无序型分类变量：使用独热编码。"
   ]
  }
 ],
 "metadata": {
  "kernelspec": {
   "display_name": "Python 3 (ipykernel)",
   "language": "python",
   "name": "python3"
  },
  "language_info": {
   "codemirror_mode": {
    "name": "ipython",
    "version": 3
   },
   "file_extension": ".py",
   "mimetype": "text/x-python",
   "name": "python",
   "nbconvert_exporter": "python",
   "pygments_lexer": "ipython3",
   "version": "3.10.10"
  }
 },
 "nbformat": 4,
 "nbformat_minor": 1
}
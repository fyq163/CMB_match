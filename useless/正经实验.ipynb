{
 "cells": [
  {
   "cell_type": "code",
   "execution_count": 3,
   "outputs": [],
   "source": [
    "import pandas as pd\n",
    "import numpy as np\n",
    "import matplotlib.pyplot as plt\n",
    "df_train = pd.read_csv(\"train.csv\")\n",
    "df_testA = pd.read_csv('test_A榜.csv')\n",
    "df_testB = pd.read_csv('test_B榜.csv')\n",
    "string_col = ['MON_12_CUST_CNT_PTY_ID',\n",
    "'AI_STAR_SCO',\n",
    "'WTHR_OPN_ONL_ICO',\n",
    "'SHH_BCK',\n",
    "'LGP_HLD_CARD_LVL',\n",
    "'NB_CTC_HLD_IDV_AIO_CARD_SITU']"
   ],
   "metadata": {
    "collapsed": false,
    "pycharm": {
     "name": "#%%\n"
    }
   }
  },
  {
   "cell_type": "code",
   "execution_count": 22,
   "outputs": [
    {
     "data": {
      "text/plain": "0        30.0\n1        30.0\n2         0.0\n3        10.0\n4         0.0\n         ... \n39995    10.0\n39996    10.0\n39997    30.0\n39998    10.0\n39999    30.0\nName: SHH_BCK, Length: 40000, dtype: float64"
     },
     "execution_count": 22,
     "metadata": {},
     "output_type": "execute_result"
    }
   ],
   "source": [
    "df_train.loc[:,'SHH_BCK']=df_train.loc[:,'SHH_BCK']-2\n",
    "df_train.SHH_BCK"
   ],
   "metadata": {
    "collapsed": false,
    "pycharm": {
     "name": "#%%\n"
    }
   }
  },
  {
   "cell_type": "markdown",
   "source": [
    "缺失率超过25%，不要->bench is 75%"
   ],
   "metadata": {
    "collapsed": false,
    "pycharm": {
     "name": "#%% md\n"
    }
   }
  },
  {
   "cell_type": "code",
   "execution_count": null,
   "outputs": [],
   "source": [
    "def drop_too_few_variable(dataframe:pd.DataFrame, threshold=0.75,str_col=string_col, keep_stringcol=True):\n",
    "    mask_drop = (dataframe.count()/40000)>threshold\n",
    "    if keep_stringcol:\n",
    "        _df_numerical = dataframe.loc[:,mask_drop]\n",
    "    else:\n",
    "        dataframe = dataframe.loc[:,mask_drop]\n"
   ],
   "metadata": {
    "collapsed": false,
    "pycharm": {
     "name": "#%%\n"
    }
   }
  },
  {
   "cell_type": "markdown",
   "source": [
    "-2处理,SHHBCK也要-2，做one hot,分出label"
   ],
   "metadata": {
    "collapsed": false,
    "pycharm": {
     "name": "#%% md\n"
    }
   }
  },
  {
   "cell_type": "code",
   "execution_count": 1,
   "outputs": [
    {
     "ename": "NameError",
     "evalue": "name 'pd' is not defined",
     "output_type": "error",
     "traceback": [
      "\u001B[0;31m---------------------------------------------------------------------------\u001B[0m",
      "\u001B[0;31mNameError\u001B[0m                                 Traceback (most recent call last)",
      "Cell \u001B[0;32mIn[1], line 1\u001B[0m\n\u001B[0;32m----> 1\u001B[0m \u001B[38;5;28;01mdef\u001B[39;00m \u001B[38;5;21mstep1_data_processing\u001B[39m(_df_numerical:\u001B[43mpd\u001B[49m\u001B[38;5;241m.\u001B[39mDataFrame):\n\u001B[1;32m      2\u001B[0m     \u001B[38;5;66;03m# slip 2 numerical and string columns\u001B[39;00m\n\u001B[1;32m      3\u001B[0m     _df_numerical \u001B[38;5;241m=\u001B[39m _df_numerical\u001B[38;5;241m.\u001B[39miloc[:, \u001B[38;5;241m2\u001B[39m:] \u001B[38;5;241m-\u001B[39m \u001B[38;5;241m2\u001B[39m\n\u001B[1;32m      4\u001B[0m     \u001B[38;5;28;01mif\u001B[39;00m \u001B[38;5;124m'\u001B[39m\u001B[38;5;124mLABEL\u001B[39m\u001B[38;5;124m'\u001B[39m \u001B[38;5;129;01min\u001B[39;00m _df_numerical\u001B[38;5;241m.\u001B[39mcolumns:\n",
      "\u001B[0;31mNameError\u001B[0m: name 'pd' is not defined"
     ]
    }
   ],
   "source": [
    "def step1_data_processing(_df_numerical:pd.DataFrame):\n",
    "    # slip 2 numerical and string columns\n",
    "    _df_numerical = _df_numerical.iloc[:, 2:] - 2\n",
    "    if 'LABEL' in _df_numerical.columns:\n",
    "        df_lable = _df_numerical['LABEL']\n",
    "    else:\n",
    "        df_lable=None\n",
    "\n",
    "    return _df_numerical, df_lable, _df_numerical\n",
    "test_numerical, test_label, df_testB =  step1_data_processing(df_testB)\n"
   ],
   "metadata": {
    "collapsed": false,
    "pycharm": {
     "name": "#%%\n"
    }
   }
  },
  {
   "cell_type": "markdown",
   "source": [
    "clip by quantile up0.975, down0.02"
   ],
   "metadata": {
    "collapsed": false,
    "pycharm": {
     "name": "#%% md\n"
    }
   }
  },
  {
   "cell_type": "code",
   "execution_count": 9,
   "outputs": [],
   "source": [
    "# Quantile function\n",
    "def clip_by_quantile(dataframe: pd.DataFrame, down=0.02, up=0.975):\n",
    "    res_df = pd.DataFrame()\n",
    "    for i in dataframe.columns:\n",
    "        the_col = dataframe.loc[:, i]\n",
    "        lo_lim = the_col.quantile([down, up])[down]\n",
    "        up_lim = the_col.quantile([down, up])[up]\n",
    "        res_df.loc[:, i] = the_col.clip(lower=lo_lim, upper=up_lim, inplace=False)\n",
    "    return res_df\n",
    "test_numerical = clip_by_quantile(test_numerical)"
   ],
   "metadata": {
    "collapsed": false,
    "pycharm": {
     "name": "#%%\n"
    }
   }
  },
  {
   "cell_type": "markdown",
   "source": [
    "确定test和train的分布区别，留下形态差不多的\n",
    "mask = df_test[:].dtypes != object\n",
    "df_without_object = df_test.loc[:, mask]"
   ],
   "metadata": {
    "collapsed": false,
    "pycharm": {
     "name": "#%% md\n"
    }
   }
  }
 ],
 "metadata": {
  "interpreter": {
   "hash": "5c069628d12a0ff32f845df9e2d2dc68a0224f451f96b9471cad177a06dd9aa6"
  },
  "kernelspec": {
   "display_name": "Python 3.8.13 ('base')",
   "language": "python",
   "name": "python3"
  },
  "language_info": {
   "codemirror_mode": {
    "name": "ipython",
    "version": 3
   },
   "file_extension": ".py",
   "mimetype": "text/x-python",
   "name": "python",
   "nbconvert_exporter": "python",
   "pygments_lexer": "ipython3",
   "version": "3.8.13"
  },
  "orig_nbformat": 4
 },
 "nbformat": 4,
 "nbformat_minor": 2
}
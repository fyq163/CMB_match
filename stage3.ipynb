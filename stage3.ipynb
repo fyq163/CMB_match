{
 "cells": [
  {
   "cell_type": "code",
   "execution_count": 29,
   "metadata": {
    "pycharm": {
     "name": "#%%\n"
    }
   },
   "outputs": [],
   "source": [
    "import pandas as pd\n",
    "import useful_functions as uf\n",
    "path_fill = 'data/2022/filled_trian.csv'\n",
    "df_train = pd.read_csv('data/2022/train.csv', index_col=0).head(500)\n",
    "df_train_filled = pd.read_csv(path_fill, index_col=0).head(500)\n",
    "y_sample_500 = df_train_filled['LABEL']"
   ]
  },
  {
   "attachments": {},
   "cell_type": "markdown",
   "metadata": {
    "pycharm": {
     "name": "#%% md\n"
    }
   },
   "source": [
    "Mode first,then go IQR filtering, then OneHot, then check corrlation, then "
   ]
  },
  {
   "attachments": {},
   "cell_type": "markdown",
   "metadata": {
    "pycharm": {
     "name": "#%% md\n"
    }
   },
   "source": [
    "IQR method"
   ]
  },
  {
   "cell_type": "code",
   "execution_count": 30,
   "metadata": {
    "pycharm": {
     "name": "#%%\n"
    }
   },
   "outputs": [],
   "source": [
    "df_nu = uf.get_numerical_df(df_train_filled)"
   ]
  },
  {
   "cell_type": "code",
   "execution_count": 31,
   "metadata": {
    "pycharm": {
     "name": "#%%\n"
    }
   },
   "outputs": [],
   "source": [
    "def IQR_filtering(df,U=0.88,L=0.22):\n",
    "    \"\"\"\n",
    "    Optional\n",
    "    ----------\n",
    "    This function filters outliers using IQR method.\n",
    "\n",
    "    Parameters\n",
    "    ----------\n",
    "    df : pd.Dataframe,\n",
    "        This dataframe should be numerial only, if there is a string column, it will crash\n",
    "\n",
    "    U : default is 0.88\n",
    "        percentile of the upper bound, default is 0.88\n",
    "\n",
    "    L : default is 0.22\n",
    "        percentile of the lower bound, default is 0.22\n",
    "\n",
    "    \"\"\"\n",
    "\n",
    "    for col in df.columns:\n",
    "        Q1=df.loc[:,col].quantile(L)\n",
    "        Q3=df.loc[:,col].quantile(U)\n",
    "        IQR = Q3 - Q1\n",
    "        lower = Q1-1.5*IQR\n",
    "        upper = Q3+1.5*IQR\n",
    "        con_cahnge = (df[col]<lower) | (df[col]>upper)\n",
    "        def change(x):\n",
    "            if x<lower:\n",
    "                return lower\n",
    "            elif x>upper:\n",
    "                return upper\n",
    "            else:\n",
    "                return x\n",
    "        df.loc[con_cahnge,col] = df.loc[con_cahnge,col].apply(change)\n",
    "    return df\n"
   ]
  },
  {
   "attachments": {},
   "cell_type": "markdown",
   "metadata": {
    "pycharm": {
     "name": "#%% md\n"
    }
   },
   "source": [
    "IQR filtering"
   ]
  },
  {
   "cell_type": "code",
   "execution_count": 32,
   "metadata": {
    "pycharm": {
     "name": "#%%\n"
    }
   },
   "outputs": [],
   "source": [
    "df_train_filled.loc[:,IQR_filtering(df_nu).columns] = IQR_filtering(df_nu)"
   ]
  },
  {
   "attachments": {},
   "cell_type": "markdown",
   "metadata": {
    "pycharm": {
     "name": "#%% md\n"
    }
   },
   "source": [
    "OneHot create_dummies()"
   ]
  },
  {
   "cell_type": "code",
   "execution_count": 33,
   "metadata": {
    "pycharm": {
     "name": "#%%\n"
    }
   },
   "outputs": [],
   "source": [
    "df_train_filled=uf.create_dummies(df_train_filled)"
   ]
  },
  {
   "attachments": {},
   "cell_type": "markdown",
   "metadata": {
    "pycharm": {
     "name": "#%% md\n"
    }
   },
   "source": [
    "now drop labels\n",
    "uf.drop_high_corr_columns()---->list"
   ]
  }
 ],
 "metadata": {
  "kernelspec": {
   "display_name": "Python 3",
   "language": "python",
   "name": "python3"
  },
  "language_info": {
   "codemirror_mode": {
    "name": "ipython",
    "version": 3
   },
   "file_extension": ".py",
   "mimetype": "text/x-python",
   "name": "python",
   "nbconvert_exporter": "python",
   "pygments_lexer": "ipython3",
   "version": "3.9.6"
  },
  "orig_nbformat": 4
 },
 "nbformat": 4,
 "nbformat_minor": 2
}
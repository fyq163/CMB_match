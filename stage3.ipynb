{
 "cells": [
  {
   "cell_type": "code",
   "execution_count": 94,
   "metadata": {},
   "outputs": [],
   "source": [
    "\n",
    "import pandas as pd\n",
    "import useful_functions as uf\n",
    "path_fill = 'data/2022/filled_trian.csv'\n",
    "df_train = pd.read_csv('data/2022/train.csv', index_col=0).head(500)\n",
    "df_train_filled = pd.read_csv(path_fill, index_col=0).head(500)"
   ]
  },
  {
   "attachments": {},
   "cell_type": "markdown",
   "metadata": {},
   "source": [
    "distribution review"
   ]
  },
  {
   "attachments": {},
   "cell_type": "markdown",
   "metadata": {},
   "source": [
    "IQR method"
   ]
  },
  {
   "cell_type": "code",
   "execution_count": null,
   "metadata": {},
   "outputs": [],
   "source": [
    "\n"
   ]
  },
  {
   "cell_type": "code",
   "execution_count": 95,
   "metadata": {},
   "outputs": [],
   "source": [
    "df_nu = uf.get_numerical_df(df_train_filled)"
   ]
  },
  {
   "cell_type": "code",
   "execution_count": 96,
   "metadata": {},
   "outputs": [],
   "source": [
    "res = pd.DataFrame()\n",
    "df = df_nu.copy()\n",
    "\n",
    "    # loop over cols\n",
    "def IQR_filtering(df,U=0.88,L=0.22):\n",
    "    \"\"\"\n",
    "    Optional\n",
    "    ----------\n",
    "    This function filters outliers using IQR method.\n",
    "\n",
    "    Parameters\n",
    "    ----------\n",
    "    df : pd.Dataframe,\n",
    "        This dataframe should be numerial only, if there is a string column, it will crash\n",
    "\n",
    "    U : default is 0.88\n",
    "        percentile of the upper bound, default is 0.88\n",
    "\n",
    "    L : default is 0.22\n",
    "        percentile of the lower bound, default is 0.22\n",
    "\n",
    "    \"\"\"\n",
    "\n",
    "    for col in df.columns:\n",
    "        Q1=df.loc[:,col].quantile(L)\n",
    "        Q3=df.loc[:,col].quantile(U)\n",
    "        IQR = Q3 - Q1\n",
    "        lower = Q1-1.5*IQR\n",
    "        upper = Q3+1.5*IQR\n",
    "        con_cahnge = (df[col]<lower) | (df[col]>upper)\n",
    "        def change(x):\n",
    "            if x<lower:\n",
    "                return lower\n",
    "            elif x>upper:\n",
    "                return upper\n",
    "            else:\n",
    "                return x\n",
    "        df.loc[con_cahnge,col] = df.loc[con_cahnge,col].apply(change)\n",
    "    return df\n"
   ]
  },
  {
   "cell_type": "code",
   "execution_count": 97,
   "metadata": {},
   "outputs": [
    {
     "data": {
      "text/plain": [
       "30    8.454266e+05\n",
       "31    2.070000e+03\n",
       "32    3.000000e+02\n",
       "33    1.200000e+02\n",
       "34   -3.089976e+06\n",
       "35    3.031102e+05\n",
       "36    3.560000e+03\n",
       "37    9.300000e+02\n",
       "38   -2.140387e+05\n",
       "39   -1.615276e+06\n",
       "40   -1.616212e+06\n",
       "Name: AGN_CNT_RCT_12_MON, dtype: float64"
      ]
     },
     "execution_count": 97,
     "metadata": {},
     "output_type": "execute_result"
    }
   ],
   "source": [
    "df_nu.loc[30:40,'AGN_CNT_RCT_12_MON']"
   ]
  },
  {
   "cell_type": "code",
   "execution_count": 98,
   "metadata": {},
   "outputs": [
    {
     "data": {
      "text/plain": [
       "30    8.454266e+05\n",
       "31    2.070000e+03\n",
       "32    3.000000e+02\n",
       "33    1.200000e+02\n",
       "34   -1.358082e+06\n",
       "35    3.031102e+05\n",
       "36    3.560000e+03\n",
       "37    9.300000e+02\n",
       "38   -2.140387e+05\n",
       "39   -1.358082e+06\n",
       "40   -1.358082e+06\n",
       "Name: AGN_CNT_RCT_12_MON, dtype: float64"
      ]
     },
     "execution_count": 98,
     "metadata": {},
     "output_type": "execute_result"
    }
   ],
   "source": [
    "IQR_filtering(df).loc[30:40,'AGN_CNT_RCT_12_MON']"
   ]
  },
  {
   "cell_type": "code",
   "execution_count": null,
   "metadata": {},
   "outputs": [],
   "source": []
  }
 ],
 "metadata": {
  "kernelspec": {
   "display_name": "Python 3",
   "language": "python",
   "name": "python3"
  },
  "language_info": {
   "codemirror_mode": {
    "name": "ipython",
    "version": 3
   },
   "file_extension": ".py",
   "mimetype": "text/x-python",
   "name": "python",
   "nbconvert_exporter": "python",
   "pygments_lexer": "ipython3",
   "version": "3.8.16"
  },
  "orig_nbformat": 4
 },
 "nbformat": 4,
 "nbformat_minor": 2
}

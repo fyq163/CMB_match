{
 "cells": [
  {
   "cell_type": "code",
   "execution_count": 31,
   "metadata": {},
   "outputs": [],
   "source": [
    "# ! pip install autokeras"
   ]
  },
  {
   "cell_type": "code",
   "execution_count": 32,
   "metadata": {},
   "outputs": [],
   "source": [
    "# ! pip list"
   ]
  },
  {
   "cell_type": "code",
   "execution_count": 33,
   "metadata": {
    "collapsed": false,
    "pycharm": {
     "name": "#%%\n"
    }
   },
   "outputs": [],
   "source": [
    "import pandas as pd\n",
    "import numpy as np\n",
    "import itertools\n",
    "# import matplotlib.pyplot as plt\n",
    "import useful_functions as uf\n",
    "# from sklearn.preprocessing import OneHotEncoder\n",
    "path_fill = '/workspaces/CMB_match/data/2022/filled_trian.csv'\n",
    "path_train_pure = '/workspaces/CMB_match/data/2022/train.csv'\n",
    "# data/2022/filled_trian.csv\n",
    "df_train_filled = pd.read_csv(path_fill, index_col=0)\n",
    "df_train = pd.read_csv(path_train_pure)"
   ]
  },
  {
   "cell_type": "markdown",
   "metadata": {
    "collapsed": false,
    "pycharm": {
     "name": "#%% md\n"
    }
   },
   "source": [
    "有序型分类变量：使用LabelEncoder()编码；\n",
    "\n",
    "无序型分类变量：使用独热编码。"
   ]
  },
  {
   "cell_type": "code",
   "execution_count": 34,
   "metadata": {
    "collapsed": false,
    "pycharm": {
     "name": "#%%\n"
    }
   },
   "outputs": [],
   "source": [
    "string_col =uf.dynamic_string_col(df_train_filled)\n",
    "\n",
    "opt_col = string_col.copy()\n",
    "\n",
    "df_str=pd.DataFrame()\n",
    "if 'MON_12_CUST_CNT_PTY_ID' in string_col:\n",
    "    # This a Binary Y/N, the training sample has Y only, do not fill with the mode\n",
    "    opt_col.remove('MON_12_CUST_CNT_PTY_ID')\n",
    "    df_str.loc[:,'MON_12_CUST_CNT_PTY_ID'] = df_train_filled['MON_12_CUST_CNT_PTY_ID']\n",
    "    # Direct copy\n",
    "# fill the missing value with mode\n",
    "df_str.loc[:,opt_col] = uf.mode_nan_string(df_train_filled.loc[:, opt_col])\n",
    "## One-hot encoding\n",
    "df_str.loc[:,'SHH_BCK']=df_str.SHH_BCK.astype(str) # it was floated\n",
    "dummies = pd.get_dummies(df_str,dummy_na=True)"
   ]
  },
  {
   "cell_type": "markdown",
   "metadata": {
    "collapsed": false,
    "pycharm": {
     "name": "#%% md\n"
    }
   },
   "source": []
  },
  {
   "cell_type": "code",
   "execution_count": 35,
   "metadata": {
    "collapsed": false,
    "pycharm": {
     "name": "#%%\n"
    }
   },
   "outputs": [],
   "source": [
    "_df_numerical= uf.get_numerical_df(df_train_filled)"
   ]
  },
  {
   "cell_type": "markdown",
   "metadata": {
    "collapsed": false,
    "pycharm": {
     "name": "#%% md\n"
    }
   },
   "source": [
    "1 无序分类变量的相关性\n",
    "2 get the correlation matrix of the numerical variables\n",
    "3 save the first column with the lowest missing value"
   ]
  },
  {
   "cell_type": "code",
   "execution_count": 36,
   "metadata": {
    "collapsed": false,
    "pycharm": {
     "name": "#%%\n"
    }
   },
   "outputs": [
    {
     "data": {
      "text/html": [
       "<div>\n",
       "<style scoped>\n",
       "    .dataframe tbody tr th:only-of-type {\n",
       "        vertical-align: middle;\n",
       "    }\n",
       "\n",
       "    .dataframe tbody tr th {\n",
       "        vertical-align: top;\n",
       "    }\n",
       "\n",
       "    .dataframe thead th {\n",
       "        text-align: right;\n",
       "    }\n",
       "</style>\n",
       "<table border=\"1\" class=\"dataframe\">\n",
       "  <thead>\n",
       "    <tr style=\"text-align: right;\">\n",
       "      <th></th>\n",
       "      <th>MON_12_EXT_SAM_TRSF_IN_AMT</th>\n",
       "      <th>EMP_NBR</th>\n",
       "      <th>LAST_12_MON_COR_DPS_DAY_AVG_BAL</th>\n",
       "      <th>CUR_MON_COR_DPS_MON_DAY_AVG_BAL</th>\n",
       "      <th>HLD_DMS_CCY_ACT_NBR</th>\n",
       "    </tr>\n",
       "  </thead>\n",
       "  <tbody>\n",
       "    <tr>\n",
       "      <th>MON_12_EXT_SAM_TRSF_IN_AMT</th>\n",
       "      <td>1.000000</td>\n",
       "      <td>0.007209</td>\n",
       "      <td>0.448644</td>\n",
       "      <td>0.415210</td>\n",
       "      <td>0.055374</td>\n",
       "    </tr>\n",
       "    <tr>\n",
       "      <th>EMP_NBR</th>\n",
       "      <td>0.007209</td>\n",
       "      <td>1.000000</td>\n",
       "      <td>0.014451</td>\n",
       "      <td>0.089909</td>\n",
       "      <td>0.802149</td>\n",
       "    </tr>\n",
       "    <tr>\n",
       "      <th>LAST_12_MON_COR_DPS_DAY_AVG_BAL</th>\n",
       "      <td>0.448644</td>\n",
       "      <td>0.014451</td>\n",
       "      <td>1.000000</td>\n",
       "      <td>0.935051</td>\n",
       "      <td>0.087795</td>\n",
       "    </tr>\n",
       "    <tr>\n",
       "      <th>CUR_MON_COR_DPS_MON_DAY_AVG_BAL</th>\n",
       "      <td>0.415210</td>\n",
       "      <td>0.089909</td>\n",
       "      <td>0.935051</td>\n",
       "      <td>1.000000</td>\n",
       "      <td>0.143070</td>\n",
       "    </tr>\n",
       "    <tr>\n",
       "      <th>HLD_DMS_CCY_ACT_NBR</th>\n",
       "      <td>0.055374</td>\n",
       "      <td>0.802149</td>\n",
       "      <td>0.087795</td>\n",
       "      <td>0.143070</td>\n",
       "      <td>1.000000</td>\n",
       "    </tr>\n",
       "  </tbody>\n",
       "</table>\n",
       "</div>"
      ],
      "text/plain": [
       "                                 MON_12_EXT_SAM_TRSF_IN_AMT   EMP_NBR   \n",
       "MON_12_EXT_SAM_TRSF_IN_AMT                         1.000000  0.007209  \\\n",
       "EMP_NBR                                            0.007209  1.000000   \n",
       "LAST_12_MON_COR_DPS_DAY_AVG_BAL                    0.448644  0.014451   \n",
       "CUR_MON_COR_DPS_MON_DAY_AVG_BAL                    0.415210  0.089909   \n",
       "HLD_DMS_CCY_ACT_NBR                                0.055374  0.802149   \n",
       "\n",
       "                                 LAST_12_MON_COR_DPS_DAY_AVG_BAL   \n",
       "MON_12_EXT_SAM_TRSF_IN_AMT                              0.448644  \\\n",
       "EMP_NBR                                                 0.014451   \n",
       "LAST_12_MON_COR_DPS_DAY_AVG_BAL                         1.000000   \n",
       "CUR_MON_COR_DPS_MON_DAY_AVG_BAL                         0.935051   \n",
       "HLD_DMS_CCY_ACT_NBR                                     0.087795   \n",
       "\n",
       "                                 CUR_MON_COR_DPS_MON_DAY_AVG_BAL   \n",
       "MON_12_EXT_SAM_TRSF_IN_AMT                              0.415210  \\\n",
       "EMP_NBR                                                 0.089909   \n",
       "LAST_12_MON_COR_DPS_DAY_AVG_BAL                         0.935051   \n",
       "CUR_MON_COR_DPS_MON_DAY_AVG_BAL                         1.000000   \n",
       "HLD_DMS_CCY_ACT_NBR                                     0.143070   \n",
       "\n",
       "                                 HLD_DMS_CCY_ACT_NBR  \n",
       "MON_12_EXT_SAM_TRSF_IN_AMT                  0.055374  \n",
       "EMP_NBR                                     0.802149  \n",
       "LAST_12_MON_COR_DPS_DAY_AVG_BAL             0.087795  \n",
       "CUR_MON_COR_DPS_MON_DAY_AVG_BAL             0.143070  \n",
       "HLD_DMS_CCY_ACT_NBR                         1.000000  "
      ]
     },
     "execution_count": 36,
     "metadata": {},
     "output_type": "execute_result"
    }
   ],
   "source": [
    "corr_cols = uf.high_corr_col(df_train_filled)\n",
    "drop_col = uf.save_n_drop(corr_cols,df_train_filled)\n",
    "test = df_train_filled.drop(drop_col,axis=1)\n",
    "second_corr = test.loc[:,uf.high_corr_col(test)].corr()\n",
    "second_corr"
   ]
  },
  {
   "attachments": {},
   "cell_type": "markdown",
   "metadata": {},
   "source": [
    "There are still four columns i.e. two paris are high correlated variables"
   ]
  },
  {
   "cell_type": "code",
   "execution_count": 37,
   "metadata": {
    "collapsed": false,
    "pycharm": {
     "name": "#%%\n"
    }
   },
   "outputs": [],
   "source": [
    "rows,cols = np.where(second_corr>0.8)\n",
    "# gives the position of all correlation value >0.8\n",
    "get_rid_2=list()\n",
    "for i in range(len(rows)):\n",
    "    posi= second_corr.iloc[rows[i],cols[i]]\n",
    "    # rows[i],cols[i] is the position of the element in the matrix\n",
    "    # posi is the correlation value of rows[i] and cols[i]\n",
    "    if posi<0.9990: # type: ignore\n",
    "        col_set = {second_corr.index[rows[i]], second_corr.columns[cols[i]]}\n",
    "        # this is the actual column name\n",
    "        if col_set not in get_rid_2: # because the set disregard the order,\n",
    "            # so we need to check if the set is already in the list,\n",
    "            # the pair with the same two elements\n",
    "            # but different order will be regarded as same set,\n",
    "            get_rid_2.append(col_set)\n",
    "drop_col_2  = list(itertools.chain(*get_rid_2)) # take component out to list\n",
    "# drop_col_2 is the list of column name that need to be dropped"
   ]
  },
  {
   "cell_type": "code",
   "execution_count": 39,
   "metadata": {},
   "outputs": [
    {
     "data": {
      "text/plain": [
       "[{'EMP_NBR', 'HLD_DMS_CCY_ACT_NBR'},\n",
       " {'CUR_MON_COR_DPS_MON_DAY_AVG_BAL', 'LAST_12_MON_COR_DPS_DAY_AVG_BAL'}]"
      ]
     },
     "execution_count": 39,
     "metadata": {},
     "output_type": "execute_result"
    }
   ],
   "source": [
    "get_rid_2"
   ]
  },
  {
   "cell_type": "markdown",
   "metadata": {
    "collapsed": false,
    "pycharm": {
     "name": "#%% md\n"
    }
   },
   "source": [
    "4 use the drop_col we get to drop again"
   ]
  },
  {
   "cell_type": "code",
   "execution_count": 38,
   "metadata": {
    "collapsed": false,
    "pycharm": {
     "name": "#%%\n"
    }
   },
   "outputs": [],
   "source": [
    "rank_df = pd.DataFrame(df_train.loc[:, drop_col_2].isna().sum())\n",
    "    # for each abbreviation we keep 1, we assume it is the same thing\n",
    "rank_df.sort_values([0], ascending=True)\n",
    "    # for each group of abbreviation, we keep only the fullest data set\n",
    "# [col for col in df_train[drop_col_2].columns if col not in rank_res_col]"
   ]
  }
 ],
 "metadata": {
  "kernelspec": {
   "display_name": "ts_metal",
   "language": "python",
   "name": "python3"
  },
  "language_info": {
   "codemirror_mode": {
    "name": "ipython",
    "version": 3
   },
   "file_extension": ".py",
   "mimetype": "text/x-python",
   "name": "python",
   "nbconvert_exporter": "python",
   "pygments_lexer": "ipython3",
   "version": "3.8.16"
  },
  "orig_nbformat": 4
 },
 "nbformat": 4,
 "nbformat_minor": 2
}

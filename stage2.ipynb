{
 "cells": [
  {
   "cell_type": "code",
   "execution_count": 15,
   "metadata": {
    "collapsed": false,
    "pycharm": {
     "name": "#%%\n"
    }
   },
   "outputs": [],
   "source": [
    "import pandas as pd\n",
    "import numpy as np\n",
    "import itertools\n",
    "import matplotlib.pyplot as plt\n",
    "import useful_functions as uf\n",
    "from sklearn.preprocessing import OneHotEncoder\n",
    "df_train_filled = pd.read_csv('filled_trian.csv', index_col=0)\n",
    "df_train = pd.read_csv(\"train.csv\")"
   ]
  },
  {
   "cell_type": "markdown",
   "metadata": {
    "collapsed": false,
    "pycharm": {
     "name": "#%% md\n"
    }
   },
   "source": [
    "有序型分类变量：使用LabelEncoder()编码；\n",
    "\n",
    "无序型分类变量：使用独热编码。"
   ]
  },
  {
   "cell_type": "code",
   "execution_count": 16,
   "metadata": {
    "collapsed": false,
    "pycharm": {
     "name": "#%%\n"
    }
   },
   "outputs": [],
   "source": [
    "string_col =uf.dynamic_string_col(df_train_filled)\n",
    "\n",
    "opt_col = string_col.copy()\n",
    "\n",
    "df_str=pd.DataFrame()\n",
    "if 'MON_12_CUST_CNT_PTY_ID' in string_col:\n",
    "    # This a Binary Y/N, the training sample has Y only, do not fill with the mode\n",
    "    opt_col.remove('MON_12_CUST_CNT_PTY_ID')\n",
    "    df_str.loc[:,'MON_12_CUST_CNT_PTY_ID'] = df_train_filled['MON_12_CUST_CNT_PTY_ID']\n",
    "    # Direct copy\n",
    "# fill the missing value with mode\n",
    "df_str.loc[:,opt_col] = uf.mode_nan_string(df_train_filled.loc[:, opt_col])\n",
    "## One-hot encoding\n",
    "df_str.loc[:,'SHH_BCK']=df_str.SHH_BCK.astype(str) # it was floated\n",
    "dummies = pd.get_dummies(df_str,dummy_na=True)"
   ]
  },
  {
   "cell_type": "markdown",
   "source": [],
   "metadata": {
    "collapsed": false,
    "pycharm": {
     "name": "#%% md\n"
    }
   }
  },
  {
   "cell_type": "code",
   "execution_count": 17,
   "outputs": [],
   "source": [
    "_df_numerical= uf.get_numerical_df(df_train_filled)"
   ],
   "metadata": {
    "collapsed": false,
    "pycharm": {
     "name": "#%%\n"
    }
   }
  },
  {
   "cell_type": "markdown",
   "source": [
    "1 无序分类变量的相关性\n",
    "2 get the correlation matrix of the numerical variables\n",
    "3 save the first column with the lowest missing value"
   ],
   "metadata": {
    "collapsed": false,
    "pycharm": {
     "name": "#%% md\n"
    }
   }
  },
  {
   "cell_type": "code",
   "execution_count": 18,
   "outputs": [
    {
     "data": {
      "text/plain": "                                 MON_12_EXT_SAM_TRSF_IN_AMT   EMP_NBR   \nMON_12_EXT_SAM_TRSF_IN_AMT                         1.000000  0.007209  \\\nEMP_NBR                                            0.007209  1.000000   \nLAST_12_MON_COR_DPS_DAY_AVG_BAL                    0.448644  0.014451   \nCUR_MON_COR_DPS_MON_DAY_AVG_BAL                    0.415210  0.089909   \nHLD_DMS_CCY_ACT_NBR                                0.055374  0.802149   \n\n                                 LAST_12_MON_COR_DPS_DAY_AVG_BAL   \nMON_12_EXT_SAM_TRSF_IN_AMT                              0.448644  \\\nEMP_NBR                                                 0.014451   \nLAST_12_MON_COR_DPS_DAY_AVG_BAL                         1.000000   \nCUR_MON_COR_DPS_MON_DAY_AVG_BAL                         0.935051   \nHLD_DMS_CCY_ACT_NBR                                     0.087795   \n\n                                 CUR_MON_COR_DPS_MON_DAY_AVG_BAL   \nMON_12_EXT_SAM_TRSF_IN_AMT                              0.415210  \\\nEMP_NBR                                                 0.089909   \nLAST_12_MON_COR_DPS_DAY_AVG_BAL                         0.935051   \nCUR_MON_COR_DPS_MON_DAY_AVG_BAL                         1.000000   \nHLD_DMS_CCY_ACT_NBR                                     0.143070   \n\n                                 HLD_DMS_CCY_ACT_NBR  \nMON_12_EXT_SAM_TRSF_IN_AMT                  0.055374  \nEMP_NBR                                     0.802149  \nLAST_12_MON_COR_DPS_DAY_AVG_BAL             0.087795  \nCUR_MON_COR_DPS_MON_DAY_AVG_BAL             0.143070  \nHLD_DMS_CCY_ACT_NBR                         1.000000  ",
      "text/html": "<div>\n<style scoped>\n    .dataframe tbody tr th:only-of-type {\n        vertical-align: middle;\n    }\n\n    .dataframe tbody tr th {\n        vertical-align: top;\n    }\n\n    .dataframe thead th {\n        text-align: right;\n    }\n</style>\n<table border=\"1\" class=\"dataframe\">\n  <thead>\n    <tr style=\"text-align: right;\">\n      <th></th>\n      <th>MON_12_EXT_SAM_TRSF_IN_AMT</th>\n      <th>EMP_NBR</th>\n      <th>LAST_12_MON_COR_DPS_DAY_AVG_BAL</th>\n      <th>CUR_MON_COR_DPS_MON_DAY_AVG_BAL</th>\n      <th>HLD_DMS_CCY_ACT_NBR</th>\n    </tr>\n  </thead>\n  <tbody>\n    <tr>\n      <th>MON_12_EXT_SAM_TRSF_IN_AMT</th>\n      <td>1.000000</td>\n      <td>0.007209</td>\n      <td>0.448644</td>\n      <td>0.415210</td>\n      <td>0.055374</td>\n    </tr>\n    <tr>\n      <th>EMP_NBR</th>\n      <td>0.007209</td>\n      <td>1.000000</td>\n      <td>0.014451</td>\n      <td>0.089909</td>\n      <td>0.802149</td>\n    </tr>\n    <tr>\n      <th>LAST_12_MON_COR_DPS_DAY_AVG_BAL</th>\n      <td>0.448644</td>\n      <td>0.014451</td>\n      <td>1.000000</td>\n      <td>0.935051</td>\n      <td>0.087795</td>\n    </tr>\n    <tr>\n      <th>CUR_MON_COR_DPS_MON_DAY_AVG_BAL</th>\n      <td>0.415210</td>\n      <td>0.089909</td>\n      <td>0.935051</td>\n      <td>1.000000</td>\n      <td>0.143070</td>\n    </tr>\n    <tr>\n      <th>HLD_DMS_CCY_ACT_NBR</th>\n      <td>0.055374</td>\n      <td>0.802149</td>\n      <td>0.087795</td>\n      <td>0.143070</td>\n      <td>1.000000</td>\n    </tr>\n  </tbody>\n</table>\n</div>"
     },
     "execution_count": 18,
     "metadata": {},
     "output_type": "execute_result"
    }
   ],
   "source": [
    "corr_cols = uf.high_corr_col(df_train_filled)\n",
    "drop_col = uf.save_n_drop(corr_cols,df_train_filled)\n",
    "test = df_train_filled.drop(drop_col,axis=1)\n",
    "second_corr = test.loc[:,uf.high_corr_col(test)].corr()\n",
    "second_corr"
   ],
   "metadata": {
    "collapsed": false,
    "pycharm": {
     "name": "#%%\n"
    }
   }
  },
  {
   "cell_type": "code",
   "execution_count": 19,
   "outputs": [
    {
     "data": {
      "text/plain": "                               CUST_UID  LABEL  AGN_CNT_RCT_12_MON   \n0      2a171d461bf24a739b804c2843ad4f6e      0       -1.560883e+05  \\\n1      c58d5848d18548e297963c2d9e092699      0        2.280000e+03   \n2      74e6d8179e784a039bcb5a722014f4a4      0       -1.089318e+06   \n3      1b6a8be2c2e34de09ca00d71470ec180      1       -5.782936e+05   \n4      1974b5e0440a41128a416a8cdc8a7c16      1       -8.771333e+05   \n...                                 ...    ...                 ...   \n39995  ca299adfc4be4af0b11c85abf28a12e6      0       -1.318000e+06   \n39996  c13f097515ee47ca962526482ab500fb      0       -3.672142e+05   \n39997  b8ec8daa79234cd1aceed066bf78f069      0        2.153000e+04   \n39998  1a538dd9745249b7b9d1f52b6edb80ba      1        7.136730e+05   \n39999  81fdb044d6b04369ad8ddbe784c8365e      0        3.844396e+05   \n\n       ICO_CUR_MON_ACM_TRX_TM  NB_RCT_3_MON_LGN_TMS_AGV  AGN_CUR_YEAR_AMT   \n0                   70.000000                423.300000     -1.817677e+09  \\\n1                  220.000000                783.131874      1.177657e+07   \n2                    0.000000               -156.311311     -4.598293e+08   \n3                -7738.076281                 20.000000      2.970520e+09   \n4               -19616.415412                336.991623      1.168100e+09   \n...                       ...                       ...               ...   \n39995                0.000000                 53.300000     -8.382024e+08   \n39996               70.000000                143.300000     -6.434461e+06   \n39997             1130.000000                723.259154      8.102717e+07   \n39998               10.000000                126.700000     -2.021357e+09   \n39999               30.000000                233.300000      4.400154e+08   \n\n       AGN_CUR_YEAR_WAG_AMT  AGN_AGR_LATEST_AGN_AMT  ICO_CUR_MON_ACM_TRX_AMT   \n0              5.047545e+08            1.010124e+08             2.587998e+07  \\\n1              4.412362e+08            1.964624e+06             1.475550e+07   \n2              3.130245e+08            4.599820e+06             0.000000e+00   \n3              2.218253e+09           -7.100510e+07             4.699300e+09   \n4              3.291222e+09           -1.558762e+08             1.470712e+10   \n...                     ...                     ...                      ...   \n39995         -8.921546e+08            1.123244e+08             0.000000e+00   \n39996          1.952919e+09           -6.142260e+07             1.643146e+07   \n39997         -7.369833e+08            1.277221e+07             5.962545e+08   \n39998          1.484786e+09           -2.141534e+08             4.885000e+05   \n39999         -5.832257e+08            1.756689e+08             2.740800e+06   \n\n       COUNTER_CUR_YEAR_CNT_AMT  ...  HLD_DMS_CCY_ACT_NBR       REG_DT   \n0                  0.000000e+00  ...                 10.0  1706.450000  \\\n1                  0.000000e+00  ...                 20.0   197.420000   \n2                  0.000000e+00  ...                 10.0  1133.550000   \n3                  0.000000e+00  ...                 10.0    96.450000   \n4                 -2.670062e+06  ...                 10.0  6450.072937   \n...                         ...  ...                  ...          ...   \n39995              0.000000e+00  ...                 20.0   202.260000   \n39996              0.000000e+00  ...                 10.0   174.520000   \n39997              0.000000e+00  ...                 10.0  2263.550000   \n39998              0.000000e+00  ...                 10.0   514.520000   \n39999              0.000000e+00  ...                 20.0  1943.870000   \n\n        OPN_TM  HLD_FGN_CCY_ACT_NBR  NB_CTC_HLD_IDV_AIO_CARD_SITU   \n0       414.84                  0.0                           NaN  \\\n1       193.87                  0.0                             D   \n2      1120.00                  0.0                           NaN   \n3        90.00                  0.0                             C   \n4       353.87                  0.0                             C   \n...        ...                  ...                           ...   \n39995   128.06                  0.0                             B   \n39996   158.71                  0.0                           NaN   \n39997  2130.65                  0.0                           NaN   \n39998   508.06                  0.0                           NaN   \n39999  1043.55                  0.0                             A   \n\n       AI_STAR_SCO  LGP_HLD_CARD_LVL  MON_12_CUST_CNT_PTY_ID   \n0              5.0               NaN                     NaN  \\\n1              5.0                 F                       Y   \n2              5.0                 F                     NaN   \n3              1.0               NaN                     NaN   \n4              4.0               NaN                       Y   \n...            ...               ...                     ...   \n39995          2.0                 C                     NaN   \n39996          1.0               NaN                     NaN   \n39997          5.0                 D                       Y   \n39998          2.0               NaN                     NaN   \n39999          5.0               NaN                       Y   \n\n       WTHR_OPN_ONL_ICO  SHH_BCK  \n0                     B     30.0  \n1                     B     30.0  \n2                     B      0.0  \n3                     A     10.0  \n4                     A      0.0  \n...                 ...      ...  \n39995                 B     10.0  \n39996                 B     10.0  \n39997                 B     30.0  \n39998                 B     10.0  \n39999                 B     30.0  \n\n[40000 rows x 39 columns]",
      "text/html": "<div>\n<style scoped>\n    .dataframe tbody tr th:only-of-type {\n        vertical-align: middle;\n    }\n\n    .dataframe tbody tr th {\n        vertical-align: top;\n    }\n\n    .dataframe thead th {\n        text-align: right;\n    }\n</style>\n<table border=\"1\" class=\"dataframe\">\n  <thead>\n    <tr style=\"text-align: right;\">\n      <th></th>\n      <th>CUST_UID</th>\n      <th>LABEL</th>\n      <th>AGN_CNT_RCT_12_MON</th>\n      <th>ICO_CUR_MON_ACM_TRX_TM</th>\n      <th>NB_RCT_3_MON_LGN_TMS_AGV</th>\n      <th>AGN_CUR_YEAR_AMT</th>\n      <th>AGN_CUR_YEAR_WAG_AMT</th>\n      <th>AGN_AGR_LATEST_AGN_AMT</th>\n      <th>ICO_CUR_MON_ACM_TRX_AMT</th>\n      <th>COUNTER_CUR_YEAR_CNT_AMT</th>\n      <th>...</th>\n      <th>HLD_DMS_CCY_ACT_NBR</th>\n      <th>REG_DT</th>\n      <th>OPN_TM</th>\n      <th>HLD_FGN_CCY_ACT_NBR</th>\n      <th>NB_CTC_HLD_IDV_AIO_CARD_SITU</th>\n      <th>AI_STAR_SCO</th>\n      <th>LGP_HLD_CARD_LVL</th>\n      <th>MON_12_CUST_CNT_PTY_ID</th>\n      <th>WTHR_OPN_ONL_ICO</th>\n      <th>SHH_BCK</th>\n    </tr>\n  </thead>\n  <tbody>\n    <tr>\n      <th>0</th>\n      <td>2a171d461bf24a739b804c2843ad4f6e</td>\n      <td>0</td>\n      <td>-1.560883e+05</td>\n      <td>70.000000</td>\n      <td>423.300000</td>\n      <td>-1.817677e+09</td>\n      <td>5.047545e+08</td>\n      <td>1.010124e+08</td>\n      <td>2.587998e+07</td>\n      <td>0.000000e+00</td>\n      <td>...</td>\n      <td>10.0</td>\n      <td>1706.450000</td>\n      <td>414.84</td>\n      <td>0.0</td>\n      <td>NaN</td>\n      <td>5.0</td>\n      <td>NaN</td>\n      <td>NaN</td>\n      <td>B</td>\n      <td>30.0</td>\n    </tr>\n    <tr>\n      <th>1</th>\n      <td>c58d5848d18548e297963c2d9e092699</td>\n      <td>0</td>\n      <td>2.280000e+03</td>\n      <td>220.000000</td>\n      <td>783.131874</td>\n      <td>1.177657e+07</td>\n      <td>4.412362e+08</td>\n      <td>1.964624e+06</td>\n      <td>1.475550e+07</td>\n      <td>0.000000e+00</td>\n      <td>...</td>\n      <td>20.0</td>\n      <td>197.420000</td>\n      <td>193.87</td>\n      <td>0.0</td>\n      <td>D</td>\n      <td>5.0</td>\n      <td>F</td>\n      <td>Y</td>\n      <td>B</td>\n      <td>30.0</td>\n    </tr>\n    <tr>\n      <th>2</th>\n      <td>74e6d8179e784a039bcb5a722014f4a4</td>\n      <td>0</td>\n      <td>-1.089318e+06</td>\n      <td>0.000000</td>\n      <td>-156.311311</td>\n      <td>-4.598293e+08</td>\n      <td>3.130245e+08</td>\n      <td>4.599820e+06</td>\n      <td>0.000000e+00</td>\n      <td>0.000000e+00</td>\n      <td>...</td>\n      <td>10.0</td>\n      <td>1133.550000</td>\n      <td>1120.00</td>\n      <td>0.0</td>\n      <td>NaN</td>\n      <td>5.0</td>\n      <td>F</td>\n      <td>NaN</td>\n      <td>B</td>\n      <td>0.0</td>\n    </tr>\n    <tr>\n      <th>3</th>\n      <td>1b6a8be2c2e34de09ca00d71470ec180</td>\n      <td>1</td>\n      <td>-5.782936e+05</td>\n      <td>-7738.076281</td>\n      <td>20.000000</td>\n      <td>2.970520e+09</td>\n      <td>2.218253e+09</td>\n      <td>-7.100510e+07</td>\n      <td>4.699300e+09</td>\n      <td>0.000000e+00</td>\n      <td>...</td>\n      <td>10.0</td>\n      <td>96.450000</td>\n      <td>90.00</td>\n      <td>0.0</td>\n      <td>C</td>\n      <td>1.0</td>\n      <td>NaN</td>\n      <td>NaN</td>\n      <td>A</td>\n      <td>10.0</td>\n    </tr>\n    <tr>\n      <th>4</th>\n      <td>1974b5e0440a41128a416a8cdc8a7c16</td>\n      <td>1</td>\n      <td>-8.771333e+05</td>\n      <td>-19616.415412</td>\n      <td>336.991623</td>\n      <td>1.168100e+09</td>\n      <td>3.291222e+09</td>\n      <td>-1.558762e+08</td>\n      <td>1.470712e+10</td>\n      <td>-2.670062e+06</td>\n      <td>...</td>\n      <td>10.0</td>\n      <td>6450.072937</td>\n      <td>353.87</td>\n      <td>0.0</td>\n      <td>C</td>\n      <td>4.0</td>\n      <td>NaN</td>\n      <td>Y</td>\n      <td>A</td>\n      <td>0.0</td>\n    </tr>\n    <tr>\n      <th>...</th>\n      <td>...</td>\n      <td>...</td>\n      <td>...</td>\n      <td>...</td>\n      <td>...</td>\n      <td>...</td>\n      <td>...</td>\n      <td>...</td>\n      <td>...</td>\n      <td>...</td>\n      <td>...</td>\n      <td>...</td>\n      <td>...</td>\n      <td>...</td>\n      <td>...</td>\n      <td>...</td>\n      <td>...</td>\n      <td>...</td>\n      <td>...</td>\n      <td>...</td>\n      <td>...</td>\n    </tr>\n    <tr>\n      <th>39995</th>\n      <td>ca299adfc4be4af0b11c85abf28a12e6</td>\n      <td>0</td>\n      <td>-1.318000e+06</td>\n      <td>0.000000</td>\n      <td>53.300000</td>\n      <td>-8.382024e+08</td>\n      <td>-8.921546e+08</td>\n      <td>1.123244e+08</td>\n      <td>0.000000e+00</td>\n      <td>0.000000e+00</td>\n      <td>...</td>\n      <td>20.0</td>\n      <td>202.260000</td>\n      <td>128.06</td>\n      <td>0.0</td>\n      <td>B</td>\n      <td>2.0</td>\n      <td>C</td>\n      <td>NaN</td>\n      <td>B</td>\n      <td>10.0</td>\n    </tr>\n    <tr>\n      <th>39996</th>\n      <td>c13f097515ee47ca962526482ab500fb</td>\n      <td>0</td>\n      <td>-3.672142e+05</td>\n      <td>70.000000</td>\n      <td>143.300000</td>\n      <td>-6.434461e+06</td>\n      <td>1.952919e+09</td>\n      <td>-6.142260e+07</td>\n      <td>1.643146e+07</td>\n      <td>0.000000e+00</td>\n      <td>...</td>\n      <td>10.0</td>\n      <td>174.520000</td>\n      <td>158.71</td>\n      <td>0.0</td>\n      <td>NaN</td>\n      <td>1.0</td>\n      <td>NaN</td>\n      <td>NaN</td>\n      <td>B</td>\n      <td>10.0</td>\n    </tr>\n    <tr>\n      <th>39997</th>\n      <td>b8ec8daa79234cd1aceed066bf78f069</td>\n      <td>0</td>\n      <td>2.153000e+04</td>\n      <td>1130.000000</td>\n      <td>723.259154</td>\n      <td>8.102717e+07</td>\n      <td>-7.369833e+08</td>\n      <td>1.277221e+07</td>\n      <td>5.962545e+08</td>\n      <td>0.000000e+00</td>\n      <td>...</td>\n      <td>10.0</td>\n      <td>2263.550000</td>\n      <td>2130.65</td>\n      <td>0.0</td>\n      <td>NaN</td>\n      <td>5.0</td>\n      <td>D</td>\n      <td>Y</td>\n      <td>B</td>\n      <td>30.0</td>\n    </tr>\n    <tr>\n      <th>39998</th>\n      <td>1a538dd9745249b7b9d1f52b6edb80ba</td>\n      <td>1</td>\n      <td>7.136730e+05</td>\n      <td>10.000000</td>\n      <td>126.700000</td>\n      <td>-2.021357e+09</td>\n      <td>1.484786e+09</td>\n      <td>-2.141534e+08</td>\n      <td>4.885000e+05</td>\n      <td>0.000000e+00</td>\n      <td>...</td>\n      <td>10.0</td>\n      <td>514.520000</td>\n      <td>508.06</td>\n      <td>0.0</td>\n      <td>NaN</td>\n      <td>2.0</td>\n      <td>NaN</td>\n      <td>NaN</td>\n      <td>B</td>\n      <td>10.0</td>\n    </tr>\n    <tr>\n      <th>39999</th>\n      <td>81fdb044d6b04369ad8ddbe784c8365e</td>\n      <td>0</td>\n      <td>3.844396e+05</td>\n      <td>30.000000</td>\n      <td>233.300000</td>\n      <td>4.400154e+08</td>\n      <td>-5.832257e+08</td>\n      <td>1.756689e+08</td>\n      <td>2.740800e+06</td>\n      <td>0.000000e+00</td>\n      <td>...</td>\n      <td>20.0</td>\n      <td>1943.870000</td>\n      <td>1043.55</td>\n      <td>0.0</td>\n      <td>A</td>\n      <td>5.0</td>\n      <td>NaN</td>\n      <td>Y</td>\n      <td>B</td>\n      <td>30.0</td>\n    </tr>\n  </tbody>\n</table>\n<p>40000 rows × 39 columns</p>\n</div>"
     },
     "execution_count": 19,
     "metadata": {},
     "output_type": "execute_result"
    }
   ],
   "source": [
    "rows,cols = np.where(second_corr>0.8)\n",
    "# gives the position of all correlation value >0.8\n",
    "get_rid_2=list()\n",
    "for i in range(len(rows)):\n",
    "    posi= second_corr.iloc[rows[i],cols[i]]\n",
    "    # rows[i],cols[i] is the position of the element in the matrix\n",
    "    # posi is the correlation value of rows[i] and cols[i]\n",
    "    if posi<0.9990:\n",
    "        col_set = {second_corr.index[rows[i]], second_corr.columns[cols[i]]}\n",
    "        # this is the actual column name\n",
    "        if col_set not in get_rid_2: # because the set disregard the order,\n",
    "            # so we need to check if the set is already in the list,\n",
    "            # the pair with the same two elements\n",
    "            # but different order will be regarded as same set,\n",
    "            get_rid_2.append(col_set)\n",
    "drop_col_2  = list(itertools.chain(*get_rid_2)) # take component out to list\n",
    "# drop_col_2 is the list of column name that need to be dropped"
   ],
   "metadata": {
    "collapsed": false,
    "pycharm": {
     "name": "#%%\n"
    }
   }
  },
  {
   "cell_type": "markdown",
   "source": [
    "4 use the drop_col we get to drop again"
   ],
   "metadata": {
    "collapsed": false,
    "pycharm": {
     "name": "#%% md\n"
    }
   }
  },
  {
   "cell_type": "code",
   "execution_count": 20,
   "outputs": [
    {
     "data": {
      "text/plain": "[]"
     },
     "execution_count": 20,
     "metadata": {},
     "output_type": "execute_result"
    }
   ],
   "source": [
    "uf.save_n_drop(drop_col_2,test)"
   ],
   "metadata": {
    "collapsed": false,
    "pycharm": {
     "name": "#%%\n"
    }
   }
  }
 ],
 "metadata": {
  "kernelspec": {
   "display_name": "ts_metal",
   "language": "python",
   "name": "python3"
  },
  "language_info": {
   "codemirror_mode": {
    "name": "ipython",
    "version": 3
   },
   "file_extension": ".py",
   "mimetype": "text/x-python",
   "name": "python",
   "nbconvert_exporter": "python",
   "pygments_lexer": "ipython3",
   "version": "3.10.10"
  },
  "orig_nbformat": 4
 },
 "nbformat": 4,
 "nbformat_minor": 2
}